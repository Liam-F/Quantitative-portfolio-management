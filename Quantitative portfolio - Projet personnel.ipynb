{
 "cells": [
  {
   "cell_type": "markdown",
   "metadata": {},
   "source": [
    "# Partie1: Index Building methodology"
   ]
  },
  {
   "cell_type": "code",
   "execution_count": 1,
   "metadata": {
    "collapsed": false
   },
   "outputs": [],
   "source": [
    "import pandas as pd \n",
    "import numpy as np\n",
    "import scipy.optimize\n",
    "%matplotlib inline\n",
    "import matplotlib.pyplot as plt\n",
    "from datetime import datetime\n",
    "from arch import arch_model\n",
    "InputMonthly= pd.read_excel('') # must contain the path for an excel spreadsheet contaning monthly returns of Stoxx Europe 600\n",
    "InputWeekly= pd.read_excel('')# must contain the path for excel spreadsheet contaning weekly returns of Stoxx Europe 600\n",
    "SXXP_returns= pd.read_excel('') #must contain the path for an excel spreadsheet containing weekly returns of Stoxx Europe 600\n"
   ]
  },
  {
   "cell_type": "markdown",
   "metadata": {},
   "source": [
    "### Compute volatility of each stock"
   ]
  },
  {
   "cell_type": "code",
   "execution_count": 2,
   "metadata": {
    "collapsed": false
   },
   "outputs": [],
   "source": [
    "Monthly_Vol=np.sqrt(InputMonthly.var(axis=0))\n",
    "Weekly_Vol=np.sqrt(InputWeekly.var(axis=0))\n",
    "Vol=(Monthly_Vol+Weekly_Vol)/2"
   ]
  },
  {
   "cell_type": "markdown",
   "metadata": {},
   "source": [
    "### Choose the top/bottom 20%"
   ]
  },
  {
   "cell_type": "code",
   "execution_count": 3,
   "metadata": {
    "collapsed": false
   },
   "outputs": [],
   "source": [
    "Vol=Vol.sort_values(ascending=True).dropna()\n",
    "BotVol=Vol[:int(len(Vol.index)*0.2)]\n",
    "TopVol=Vol[::-1][:int(len(Vol.index)*0.2)]"
   ]
  },
  {
   "cell_type": "markdown",
   "metadata": {},
   "source": [
    "### Portfolio returns"
   ]
  },
  {
   "cell_type": "code",
   "execution_count": 4,
   "metadata": {
    "collapsed": false
   },
   "outputs": [],
   "source": [
    "BotWeekReturn=pd.DataFrame(InputWeekly,columns=BotVol.index)\n",
    "BotMonthReturn=pd.DataFrame(InputMonthly,columns=BotVol.index)\n",
    "\n",
    "TopWeekReturn=pd.DataFrame(InputWeekly,columns=TopVol.index)\n",
    "TopMonthReturn=pd.DataFrame(InputMonthly,columns=TopVol.index)"
   ]
  },
  {
   "cell_type": "markdown",
   "metadata": {},
   "source": [
    "### Compute Covariance matrix and Vol of selected stocks"
   ]
  },
  {
   "cell_type": "code",
   "execution_count": 5,
   "metadata": {
    "collapsed": false
   },
   "outputs": [],
   "source": [
    "BotSigma=(BotWeekReturn.cov()+BotMonthReturn.cov())/2\n",
    "TopSigma=(TopWeekReturn.cov()+TopMonthReturn.cov())/2"
   ]
  },
  {
   "cell_type": "markdown",
   "metadata": {},
   "source": [
    "### Diversification Index Function"
   ]
  },
  {
   "cell_type": "code",
   "execution_count": 6,
   "metadata": {
    "collapsed": false
   },
   "outputs": [],
   "source": [
    "def DivIndex(w,sigma,vol):\n",
    "    return np.sqrt((w.T.dot(sigma).dot(w)))/(w.T.dot(vol))\n"
   ]
  },
  {
   "cell_type": "markdown",
   "metadata": {},
   "source": [
    "### Find weights which minize the Diversification Index under constraints"
   ]
  },
  {
   "cell_type": "code",
   "execution_count": 7,
   "metadata": {
    "collapsed": false
   },
   "outputs": [],
   "source": [
    "def solve_weights(sigma, vol):\n",
    "    n=len(vol)\n",
    "    W = [1/n]*n # start optimization with equal weights\n",
    "    b_ = [(0.0001, 1.) for i in range(n)]  # weights for boundaries between 0%..100%. No leverage, no shorting,\n",
    "    #we can add constraints, ex: weight<5% ptf  b_ = [(0.0001, 0.05) for i in range(n)]\n",
    "    \n",
    "    c_ = ({'type': 'eq', 'fun': lambda W: sum(W) - 1.})  # Sum of weights must be 100%\n",
    "    optimized = scipy.optimize.minimize(DivIndex, W, (sigma,vol), method='SLSQP', constraints=c_, bounds=b_) #standard optimization method\n",
    "    print('la ratio Div est',DivIndex(optimized.x,sigma,vol) ) #print diversification ratio\n",
    "    if not optimized.success: raise BaseException(optimized.message)\n",
    "    return pd.DataFrame(optimized.x,index=vol.index,columns=['Weights'])   #pd.DataFrame(optimized.x,index=vol.index,columns=['Weights'])"
   ]
  },
  {
   "cell_type": "markdown",
   "metadata": {
    "collapsed": false
   },
   "source": [
    "### Compute weights for Top Volatility Portfolio which minimize the Diversification Index"
   ]
  },
  {
   "cell_type": "code",
   "execution_count": 8,
   "metadata": {
    "collapsed": false,
    "scrolled": true
   },
   "outputs": [
    {
     "name": "stdout",
     "output_type": "stream",
     "text": [
      "la ratio Div est 0.353778623625\n"
     ]
    },
    {
     "data": {
      "text/html": [
       "<div>\n",
       "<table border=\"1\" class=\"dataframe\">\n",
       "  <thead>\n",
       "    <tr style=\"text-align: right;\">\n",
       "      <th></th>\n",
       "      <th>Weights</th>\n",
       "    </tr>\n",
       "  </thead>\n",
       "  <tbody>\n",
       "    <tr>\n",
       "      <th>Banca Monte dei Paschi di Siena SpA</th>\n",
       "      <td>0.001484</td>\n",
       "    </tr>\n",
       "    <tr>\n",
       "      <th>Thomas Cook Group PLC</th>\n",
       "      <td>0.008395</td>\n",
       "    </tr>\n",
       "    <tr>\n",
       "      <th>Seadrill Ltd</th>\n",
       "      <td>0.011187</td>\n",
       "    </tr>\n",
       "    <tr>\n",
       "      <th>Vallourec SA</th>\n",
       "      <td>0.000100</td>\n",
       "    </tr>\n",
       "    <tr>\n",
       "      <th>Anglo American PLC</th>\n",
       "      <td>0.000100</td>\n",
       "    </tr>\n",
       "  </tbody>\n",
       "</table>\n",
       "</div>"
      ],
      "text/plain": [
       "                                      Weights\n",
       "Banca Monte dei Paschi di Siena SpA  0.001484\n",
       "Thomas Cook Group PLC                0.008395\n",
       "Seadrill Ltd                         0.011187\n",
       "Vallourec SA                         0.000100\n",
       "Anglo American PLC                   0.000100"
      ]
     },
     "execution_count": 8,
     "metadata": {},
     "output_type": "execute_result"
    }
   ],
   "source": [
    "solve_weights(TopSigma,TopVol).head() #this is an example"
   ]
  },
  {
   "cell_type": "markdown",
   "metadata": {},
   "source": [
    "### Compute weights for Bottom Volatility Portfolio wich minimize the Diversification Index"
   ]
  },
  {
   "cell_type": "code",
   "execution_count": 9,
   "metadata": {
    "collapsed": false,
    "scrolled": true
   },
   "outputs": [
    {
     "name": "stdout",
     "output_type": "stream",
     "text": [
      "la ratio Div est 0.442672537507\n"
     ]
    },
    {
     "data": {
      "text/html": [
       "<div>\n",
       "<table border=\"1\" class=\"dataframe\">\n",
       "  <thead>\n",
       "    <tr style=\"text-align: right;\">\n",
       "      <th></th>\n",
       "      <th>Weights</th>\n",
       "    </tr>\n",
       "  </thead>\n",
       "  <tbody>\n",
       "    <tr>\n",
       "      <th>Swiss Prime Site AG</th>\n",
       "      <td>0.004282</td>\n",
       "    </tr>\n",
       "    <tr>\n",
       "      <th>Nestle SA</th>\n",
       "      <td>0.000100</td>\n",
       "    </tr>\n",
       "    <tr>\n",
       "      <th>Cofinimmo SA</th>\n",
       "      <td>0.000100</td>\n",
       "    </tr>\n",
       "    <tr>\n",
       "      <th>PSP Swiss Property AG</th>\n",
       "      <td>0.019908</td>\n",
       "    </tr>\n",
       "    <tr>\n",
       "      <th>Swisscom AG</th>\n",
       "      <td>0.000100</td>\n",
       "    </tr>\n",
       "  </tbody>\n",
       "</table>\n",
       "</div>"
      ],
      "text/plain": [
       "                        Weights\n",
       "Swiss Prime Site AG    0.004282\n",
       "Nestle SA              0.000100\n",
       "Cofinimmo SA           0.000100\n",
       "PSP Swiss Property AG  0.019908\n",
       "Swisscom AG            0.000100"
      ]
     },
     "execution_count": 9,
     "metadata": {},
     "output_type": "execute_result"
    }
   ],
   "source": [
    "solve_weights(BotSigma,BotVol).head()"
   ]
  },
  {
   "cell_type": "markdown",
   "metadata": {},
   "source": [
    "# Partie2: Compute the turnover and performance of each index over the last 12m with a quarterly rebalancing."
   ]
  },
  {
   "cell_type": "markdown",
   "metadata": {},
   "source": [
    "### Build the low and high Volatily indexes using the process built in question 1"
   ]
  },
  {
   "cell_type": "code",
   "execution_count": 10,
   "metadata": {
    "collapsed": false
   },
   "outputs": [],
   "source": [
    "def High_vol_index(weekly_returns,monthly_returns):\n",
    "    Monthly_Vol=np.sqrt(monthly_returns.var())*np.sqrt(12) \n",
    "    Weekly_Vol=np.sqrt(weekly_returns.var())*np.sqrt(52)   \n",
    "    Vol=(Monthly_Vol+Weekly_Vol*2)/3  # or (Monthly_Vol+Weekly_Vol)/2 if volatility is an everage of monthly and weekly vol\n",
    "    \n",
    "    Vol=Vol.sort_values(ascending=False).dropna()\n",
    "    TopVol=Vol[:int(len(Vol.index)*0.1)]\n",
    "    \n",
    "    TopWeekReturn=pd.DataFrame(weekly_returns,columns=TopVol.index)\n",
    "    TopMonthReturn=pd.DataFrame(monthly_returns,columns=TopVol.index)\n",
    "    \n",
    "    TopSigma=(TopWeekReturn.cov()*52*2+TopMonthReturn.cov()*12)/3 #or TopSigma=(TopWeekReturn.cov()*52+TopMonthReturn.cov()*12)/2 \n",
    "    return solve_weights(TopSigma,TopVol)\n",
    "\n",
    "def Low_vol_index(weekly_returns,monthly_returns):\n",
    "    Monthly_Vol=np.sqrt(monthly_returns.var())*np.sqrt(12)  \n",
    "    Weekly_Vol=np.sqrt(weekly_returns.var())*np.sqrt(52)\n",
    "    Vol=(Monthly_Vol+Weekly_Vol*2)/3  #idem or Vol=(Monthly_Vol+Weekly_Vol)/2\n",
    "    \n",
    "    Vol=Vol.sort_values(ascending=True).dropna()\n",
    "    BotVol=Vol[:int(len(Vol.index)*0.1)]\n",
    "    \n",
    "    BotWeekReturn=pd.DataFrame(weekly_returns,columns=BotVol.index)\n",
    "    BotMonthReturn=pd.DataFrame(monthly_returns,columns=BotVol.index)\n",
    "    \n",
    "    BotSigma=(BotWeekReturn.cov()*52*2+BotMonthReturn.cov()*12)/3 #idem (BotWeekReturn.cov()*52+BotMonthReturn.cov()*12)/2\n",
    "    return solve_weights(BotSigma,BotVol)"
   ]
  },
  {
   "cell_type": "code",
   "execution_count": 11,
   "metadata": {
    "collapsed": false
   },
   "outputs": [],
   "source": [
    "def Turnover(weights_t1,weights_t2):\n",
    "    return (abs(weights_t2-weights_t1)).sum().sum()\n",
    "\n",
    "def diff_month(d1, d2):\n",
    "    return (d1.year - d2.year)*12 + d1.month - d2.month\n",
    "\n"
   ]
  },
  {
   "cell_type": "markdown",
   "metadata": {},
   "source": [
    "### Compute Turnover and Performance of each index over the last 12 months with rebalancing every quarter"
   ]
  },
  {
   "cell_type": "markdown",
   "metadata": {},
   "source": [
    "### Compute the performance"
   ]
  },
  {
   "cell_type": "code",
   "execution_count": 12,
   "metadata": {
    "collapsed": false,
    "scrolled": true
   },
   "outputs": [
    {
     "name": "stdout",
     "output_type": "stream",
     "text": [
      "la ratio Div est 0.417422158742\n",
      "la ratio Div est 0.482792849057\n",
      "la ratio Div est 0.433319215313\n",
      "la ratio Div est 0.558514671302\n",
      "la ratio Div est 0.428727629871\n",
      "la ratio Div est 0.530346224331\n",
      "la ratio Div est 0.382603845773\n",
      "la ratio Div est 0.493032120865\n",
      "la ratio Div est 0.37502567456\n",
      "la ratio Div est 0.501700780955\n"
     ]
    }
   ],
   "source": [
    "start_date=pd.Timestamp('2016-01-01') #beginning of the period \n",
    "start_date_temp=start_date\n",
    "periodicity=3   #number of months for each period i.e = quarter\n",
    "\n",
    "High_vol_total_perf = pd.DataFrame()\n",
    "Low_vol_total_perf=pd.DataFrame()\n",
    "Turnover_HV={}\n",
    "Turnover_LV={}\n",
    "High_vol_Weights=0\n",
    "Low_vol_Weights=0\n",
    "\n",
    "for i in range(int(-diff_month(start_date_temp,datetime.today())/periodicity)+1):\n",
    "    \n",
    "    end_date=start_date+pd.DateOffset(months=periodicity); \n",
    "    monthly_returns=InputMonthly[InputMonthly.index<start_date][:60]\n",
    "    weekly_returns=InputWeekly[InputWeekly.index<start_date][:52]\n",
    "    \n",
    "    HV_temp=High_vol_index(weekly_returns,monthly_returns)\n",
    "    LV_temp=Low_vol_index(weekly_returns,monthly_returns)\n",
    "    \n",
    "    Turnover_HV[str(start_date)]=int(Turnover(High_vol_Weights,HV_temp)*100)\n",
    "    Turnover_LV[str(start_date)]=int(Turnover(Low_vol_Weights,LV_temp)*100)\n",
    "    \n",
    "    High_vol_Weights=HV_temp;\n",
    "    Low_vol_Weights=LV_temp\n",
    "    \n",
    "    TopWeekReturn=pd.DataFrame(InputWeekly,columns=High_vol_Weights.index)\n",
    "    BotWeekReturn=pd.DataFrame(InputWeekly,columns=Low_vol_Weights.index)\n",
    "    \n",
    "    X=TopWeekReturn[ np.logical_and(TopWeekReturn.index>start_date, TopWeekReturn.index<end_date)]\n",
    "    High_vol_perf=X.dot(High_vol_Weights)[::-1];\n",
    "    Low_vol_perf=BotWeekReturn[np.logical_and(BotWeekReturn.index>start_date, BotWeekReturn.index<end_date)].dot(Low_vol_Weights)[::-1]\n",
    "    \n",
    "    High_vol_total_perf= pd.concat([High_vol_total_perf,High_vol_perf],axis=0,join='inner')\n",
    "    Low_vol_total_perf=pd.concat([Low_vol_total_perf,Low_vol_perf],axis=0,join='inner')\n",
    "        \n",
    "    start_date=end_date\n",
    "    \n",
    "High_vol_total_perf.columns=['High Volatility Index Cumulative Performance']\n",
    "Low_vol_total_perf.columns=['Low Volatility Index Cumulative Performance']\n"
   ]
  },
  {
   "cell_type": "markdown",
   "metadata": {},
   "source": [
    "### Return performance and turnover (0.1=10%)"
   ]
  },
  {
   "cell_type": "code",
   "execution_count": 13,
   "metadata": {
    "collapsed": false,
    "scrolled": true
   },
   "outputs": [
    {
     "data": {
      "text/html": [
       "<div>\n",
       "<table border=\"1\" class=\"dataframe\">\n",
       "  <thead>\n",
       "    <tr style=\"text-align: right;\">\n",
       "      <th></th>\n",
       "      <th>Annualized Volatility</th>\n",
       "      <th>Total return</th>\n",
       "      <th>Sharpe ratio</th>\n",
       "    </tr>\n",
       "  </thead>\n",
       "  <tbody>\n",
       "    <tr>\n",
       "      <th>High Vol index</th>\n",
       "      <td>0.213687</td>\n",
       "      <td>0.064882</td>\n",
       "      <td>0.303631</td>\n",
       "    </tr>\n",
       "    <tr>\n",
       "      <th>Low Vol Index</th>\n",
       "      <td>0.146423</td>\n",
       "      <td>-0.159783</td>\n",
       "      <td>-1.091245</td>\n",
       "    </tr>\n",
       "    <tr>\n",
       "      <th>SXX 600</th>\n",
       "      <td>0.173318</td>\n",
       "      <td>-0.073414</td>\n",
       "      <td>-0.423580</td>\n",
       "    </tr>\n",
       "  </tbody>\n",
       "</table>\n",
       "</div>"
      ],
      "text/plain": [
       "                Annualized Volatility  Total return  Sharpe ratio\n",
       "High Vol index               0.213687      0.064882      0.303631\n",
       "Low Vol Index                0.146423     -0.159783     -1.091245\n",
       "SXX 600                      0.173318     -0.073414     -0.423580"
      ]
     },
     "execution_count": 13,
     "metadata": {},
     "output_type": "execute_result"
    }
   ],
   "source": [
    "SXXP_returns=SXXP_returns[SXXP_returns.index>=start_date_temp]\n",
    "Standard_deviation={'High Vol index':(np.sqrt(High_vol_total_perf.var())).values*np.sqrt(52),'Low Vol Index':(np.sqrt(Low_vol_total_perf.var())).values*np.sqrt(52),'SXX 600':(np.sqrt(SXXP_returns.var())).values*np.sqrt(52)}\n",
    "Standard_deviation=pd.DataFrame(Standard_deviation).T\n",
    "\n",
    "Total_return={'High Vol index':((1+High_vol_total_perf).prod()-1).values,'Low Vol Index':((1+Low_vol_total_perf).prod()-1).values,'SXX 600':((1+SXXP_returns).prod()-1).values}\n",
    "Total_return=pd.DataFrame(Total_return).T\n",
    "\n",
    "Sharpe_ratio=Total_return/Standard_deviation\n",
    "\n",
    "#Optional - Sortino Ratio\n",
    "#Strd_deviation_neg={'High Vol index':(np.sqrt(High_vol_total_perf[High_vol_total_perf<0].var())).values,'Low Vol Index':(np.sqrt(Low_vol_total_perf[Low_vol_total_perf<0].var())).values,'SXX 600':(np.sqrt(SXXP_returns[SXXP_returns<0].var())).values}\n",
    "#Strd_deviation_neg=pd.DataFrame(Strd_deviation_neg).T\n",
    "#Sortino_ratio=Total_return/Strd_deviation_neg\n",
    "\n",
    "Results=pd.concat([Standard_deviation,Total_return,Sharpe_ratio ],axis=1)\n",
    "Results.columns=['Annualized Volatility','Total return','Sharpe ratio']\n",
    "Results\n"
   ]
  },
  {
   "cell_type": "markdown",
   "metadata": {},
   "source": [
    "### Display comparative performances"
   ]
  },
  {
   "cell_type": "code",
   "execution_count": 15,
   "metadata": {
    "collapsed": false
   },
   "outputs": [
    {
     "data": {
      "text/plain": [
       "<matplotlib.axes._subplots.AxesSubplot at 0x168ae9d9278>"
      ]
     },
     "execution_count": 15,
     "metadata": {},
     "output_type": "execute_result"
    },
    {
     "data": {
      "image/png": "[encoded data removed]",
      "text/plain": [
       "<matplotlib.figure.Figure at 0x168aea271d0>"
      ]
     },
     "metadata": {},
     "output_type": "display_data"
    },
    {
     "data": {
      "image/png": "[encoded data removed]",
      "text/plain": [
       "<matplotlib.figure.Figure at 0x168aea4e8d0>"
      ]
     },
     "metadata": {},
     "output_type": "display_data"
    }
   ],
   "source": [
    "HV_Turnover=pd.DataFrame(pd.Series(Turnover_HV),columns=['HV Turnover'])\n",
    "LV_Turnover=pd.DataFrame(pd.Series(Turnover_LV),columns=['LV Turnover'])\n",
    "\n",
    "SXXP=(((1+SXXP_returns).cumprod())-1)\n",
    "\n",
    "Y=pd.concat([(((1+High_vol_total_perf).cumprod())-1),(((1+Low_vol_total_perf).cumprod())-1),SXXP],axis=1,join=\"inner\")[::-1]\n",
    "Y.plot(figsize=(15,8));\n",
    "Z=pd.concat([HV_Turnover,LV_Turnover],axis=1)\n",
    "Z.plot(kind='bar')"
   ]
  },
  {
   "cell_type": "code",
   "execution_count": null,
   "metadata": {
    "collapsed": true
   },
   "outputs": [],
   "source": []
  }
 ],
 "metadata": {
  "anaconda-cloud": {},
  "kernelspec": {
   "display_name": "Python [Root]",
   "language": "python",
   "name": "Python [Root]"
  },
  "language_info": {
   "codemirror_mode": {
    "name": "ipython",
    "version": 3
   },
   "file_extension": ".py",
   "mimetype": "text/x-python",
   "name": "python",
   "nbconvert_exporter": "python",
   "pygments_lexer": "ipython3",
   "version": "3.5.2"
  }
 },
 "nbformat": 4,
 "nbformat_minor": 0
}
